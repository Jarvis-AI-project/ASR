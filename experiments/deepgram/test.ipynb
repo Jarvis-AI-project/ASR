{
 "cells": [
  {
   "cell_type": "code",
   "execution_count": null,
   "metadata": {},
   "outputs": [],
   "source": [
    "import os\n",
    "from dotenv import load_dotenv\n",
    "from deepgram import DeepgramClient, PrerecordedOptions\n",
    "\n",
    "load_dotenv()\n",
    "\n",
    "DEEPGRAM_API_KEY = os.getenv(\"DEEPGRAM_API_KEY\")\n",
    "\n",
    "AUDIO_URL = {\n",
    "    \"url\": \"https://static.deepgram.com/examples/Bueller-Life-moves-pretty-fast.wav\"\n",
    "}\n",
    "AUDIO_FILE = \"../audio_samples/test/dev_wav/1_hi.wav\"\n",
    "\n",
    "def main():\n",
    "    try:\n",
    "        client = DeepgramClient(DEEPGRAM_API_KEY)\n",
    "\n",
    "        options = PrerecordedOptions(\n",
    "            model=\"whisper-small\",\n",
    "            language=\"en\",\n",
    "            # smart_format=True, \n",
    "        )\n",
    "\n",
    "        response = client.listen.prerecorded.v(\"1\").transcribe_url(AUDIO_URL, options)\n",
    "        \n",
    "        # with open(AUDIO_FILE, 'rb') as audio:\n",
    "        #     source = {'buffer': audio, 'mimetype': 'audio/wav'}\n",
    "        #     response = client.transcribe.prerecorded(source, options)\n",
    "        \n",
    "        print(response.to_json(indent=4))\n",
    "\n",
    "    except Exception as e:\n",
    "        print(f\"Exception: {e}\")\n",
    "\n",
    "if __name__ == \"__main__\":\n",
    "    main()\n"
   ]
  },
  {
   "cell_type": "code",
   "execution_count": null,
   "metadata": {},
   "outputs": [],
   "source": [
    "client = DeepgramClient(DEEPGRAM_API_KEY)\n",
    "client.listen.prerecorded.v(\"1\")\n"
   ]
  }
 ],
 "metadata": {
  "kernelspec": {
   "display_name": "Python 3",
   "language": "python",
   "name": "python3"
  },
  "language_info": {
   "codemirror_mode": {
    "name": "ipython",
    "version": 3
   },
   "file_extension": ".py",
   "mimetype": "text/x-python",
   "name": "python",
   "nbconvert_exporter": "python",
   "pygments_lexer": "ipython3",
   "version": "3.1.-1"
  }
 },
 "nbformat": 4,
 "nbformat_minor": 2
}
