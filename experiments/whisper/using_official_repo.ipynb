{
 "cells": [
  {
   "cell_type": "code",
   "execution_count": 1,
   "metadata": {},
   "outputs": [],
   "source": [
    "_MODEL_PATH = '../../models/whisper/'\n",
    "_MODEL_NAME = 'medium'\n"
   ]
  },
  {
   "cell_type": "code",
   "execution_count": 2,
   "metadata": {},
   "outputs": [],
   "source": [
    "from whisper import load_model, load_audio, pad_or_trim, log_mel_spectrogram, DecodingOptions, decode\n",
    "from time import perf_counter\n"
   ]
  },
  {
   "cell_type": "code",
   "execution_count": 3,
   "metadata": {},
   "outputs": [],
   "source": [
    "model_nvidia = load_model(\n",
    "    name=_MODEL_NAME,\n",
    "    download_root=_MODEL_PATH,\n",
    "    device='cuda:0',\n",
    "    in_memory=False,\n",
    ")\n"
   ]
  },
  {
   "cell_type": "code",
   "execution_count": null,
   "metadata": {},
   "outputs": [],
   "source": [
    "# model_p40 = load_model(\n",
    "#     name=_MODEL_NAME,\n",
    "#     download_root=_MODEL_PATH,\n",
    "#     device='cuda:1',\n",
    "#     in_memory=False,\n",
    "# )\n"
   ]
  },
  {
   "cell_type": "code",
   "execution_count": 4,
   "metadata": {},
   "outputs": [],
   "source": [
    "model = model_nvidia\n"
   ]
  },
  {
   "cell_type": "code",
   "execution_count": 5,
   "metadata": {},
   "outputs": [],
   "source": [
    "_AUDIO_PATH = \"../audio_samples/test/dev_wav/2_hi.wav\"\n",
    "audio = load_audio(_AUDIO_PATH)\n",
    "audio = pad_or_trim(audio)\n",
    "\n",
    "if _MODEL_NAME.find('large') != -1:\n",
    "    n_mels = 128\n",
    "else:\n",
    "    n_mels = 80\n",
    "mel = log_mel_spectrogram(audio, n_mels=n_mels).to(model.device)\n"
   ]
  },
  {
   "cell_type": "code",
   "execution_count": 9,
   "metadata": {},
   "outputs": [
    {
     "name": "stdout",
     "output_type": "stream",
     "text": [
      "Inference time: 859.10ms\n",
      "Jarvis, can you turn on the lights and turn off the fan?\n"
     ]
    }
   ],
   "source": [
    "tik = perf_counter()\n",
    "options = DecodingOptions(language='en', temperature=0)\n",
    "result = decode(model, mel, options)\n",
    "tok = perf_counter()\n",
    "\n",
    "print(f'Inference time: {(tok - tik)*1000:.2f}ms')\n",
    "print(result.text)\n"
   ]
  }
 ],
 "metadata": {
  "kernelspec": {
   "display_name": "Python 3",
   "language": "python",
   "name": "python3"
  },
  "language_info": {
   "codemirror_mode": {
    "name": "ipython",
    "version": 3
   },
   "file_extension": ".py",
   "mimetype": "text/x-python",
   "name": "python",
   "nbconvert_exporter": "python",
   "pygments_lexer": "ipython3",
   "version": "3.10.14"
  }
 },
 "nbformat": 4,
 "nbformat_minor": 2
}
