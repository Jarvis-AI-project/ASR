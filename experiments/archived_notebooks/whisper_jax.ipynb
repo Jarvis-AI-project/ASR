{
 "cells": [
  {
   "cell_type": "code",
   "execution_count": 1,
   "metadata": {},
   "outputs": [
    {
     "name": "stdout",
     "output_type": "stream",
     "text": [
      "Defaulting to user installation because normal site-packages is not writeable\n",
      "Collecting git+https://github.com/sanchit-gandhi/whisper-jax.git\n",
      "  Cloning https://github.com/sanchit-gandhi/whisper-jax.git to /tmp/pip-req-build-n9qwk74z\n",
      "  Running command git clone --filter=blob:none --quiet https://github.com/sanchit-gandhi/whisper-jax.git /tmp/pip-req-build-n9qwk74z\n",
      "  Resolved https://github.com/sanchit-gandhi/whisper-jax.git to commit 0d3bc54c8c673d71732ba6bc20fa0323b1101fa6\n",
      "  Installing build dependencies ... \u001b[?25ldone\n",
      "\u001b[?25h  Getting requirements to build wheel ... \u001b[?25ldone\n",
      "\u001b[?25h  Preparing metadata (pyproject.toml) ... \u001b[?25ldone\n",
      "\u001b[?25hBuilding wheels for collected packages: whisper-jax\n",
      "  Building wheel for whisper-jax (pyproject.toml) ... \u001b[?25ldone\n",
      "\u001b[?25h  Created wheel for whisper-jax: filename=whisper_jax-0.0.1-py3-none-any.whl size=60207 sha256=03544eb3193b0f1dcb96b1c3d829916aa152d70c6adf7b64a9f462b41472c9bf\n",
      "  Stored in directory: /tmp/pip-ephem-wheel-cache-v0g6kn8_/wheels/19/7f/50/36e503232cafa814d4b088fcb9ce13d5d3b3c9e9d29e139a94\n",
      "Successfully built whisper-jax\n",
      "Installing collected packages: whisper-jax\n",
      "Successfully installed whisper-jax-0.0.1\n"
     ]
    }
   ],
   "source": [
    "!pip install --upgrade --no-deps --force-reinstall git+https://github.com/sanchit-gandhi/whisper-jax.git"
   ]
  },
  {
   "cell_type": "code",
   "execution_count": 1,
   "metadata": {},
   "outputs": [],
   "source": [
    "import os\n",
    "os.environ[\"CUDA_VISIBLE_DEVICES\"] = \"1\""
   ]
  },
  {
   "cell_type": "code",
   "execution_count": 2,
   "metadata": {},
   "outputs": [
    {
     "data": {
      "text/plain": [
       "1"
      ]
     },
     "execution_count": 2,
     "metadata": {},
     "output_type": "execute_result"
    }
   ],
   "source": [
    "import torch\n",
    "torch.cuda.device_count()"
   ]
  },
  {
   "cell_type": "code",
   "execution_count": 1,
   "metadata": {},
   "outputs": [
    {
     "name": "stderr",
     "output_type": "stream",
     "text": [
      "2023-06-26 23:18:54.296326: W tensorflow/compiler/tf2tensorrt/utils/py_utils.cc:38] TF-TRT Warning: Could not find TensorRT\n",
      "No GPU/TPU found, falling back to CPU. (Set TF_CPP_MIN_LOG_LEVEL=0 and rerun for more info.)\n"
     ]
    }
   ],
   "source": [
    "from whisper_jax import FlaxWhisperPipline\n",
    "\n",
    "# instantiate pipeline\n",
    "pipeline = FlaxWhisperPipline(\"openai/whisper-large-v2\")"
   ]
  },
  {
   "cell_type": "code",
   "execution_count": 3,
   "metadata": {},
   "outputs": [
    {
     "data": {
      "text/plain": [
       "{'text': ' And so my fellow Americans, ask not what your country can do for you, ask what you can do for your country.'}"
      ]
     },
     "execution_count": 3,
     "metadata": {},
     "output_type": "execute_result"
    }
   ],
   "source": [
    "pipeline(\"test2.wav\")"
   ]
  }
 ],
 "metadata": {
  "kernelspec": {
   "display_name": "Python 3",
   "language": "python",
   "name": "python3"
  },
  "language_info": {
   "codemirror_mode": {
    "name": "ipython",
    "version": 3
   },
   "file_extension": ".py",
   "mimetype": "text/x-python",
   "name": "python",
   "nbconvert_exporter": "python",
   "pygments_lexer": "ipython3",
   "version": "3.10.6"
  },
  "orig_nbformat": 4
 },
 "nbformat": 4,
 "nbformat_minor": 2
}
