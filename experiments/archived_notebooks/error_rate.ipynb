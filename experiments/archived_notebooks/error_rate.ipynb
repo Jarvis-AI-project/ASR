{
 "cells": [
  {
   "cell_type": "code",
   "execution_count": 1,
   "metadata": {},
   "outputs": [],
   "source": [
    "import pandas as pd"
   ]
  },
  {
   "cell_type": "code",
   "execution_count": 2,
   "metadata": {},
   "outputs": [],
   "source": [
    "DATASET_ROOT_PATH = '/mnt/coding-nvme/datasets/audio_ds/cv-corpus-14.0-2023-06-23/hi/'"
   ]
  },
  {
   "cell_type": "code",
   "execution_count": 3,
   "metadata": {},
   "outputs": [],
   "source": [
    "data = pd.read_csv(DATASET_ROOT_PATH + 'test.csv')"
   ]
  },
  {
   "cell_type": "code",
   "execution_count": 4,
   "metadata": {},
   "outputs": [],
   "source": [
    "data = data[data['down_votes'] == 0]"
   ]
  },
  {
   "cell_type": "code",
   "execution_count": 5,
   "metadata": {},
   "outputs": [],
   "source": [
    "data.drop(['down_votes', 'up_votes', 'text_hi'], axis=1, inplace=True)"
   ]
  },
  {
   "cell_type": "code",
   "execution_count": 7,
   "metadata": {},
   "outputs": [],
   "source": [
    "import os\n",
    "def _get_file_name(row):\n",
    "    return os.path.join(DATASET_ROOT_PATH, 'clips', row['path'])"
   ]
  },
  {
   "cell_type": "code",
   "execution_count": 8,
   "metadata": {},
   "outputs": [],
   "source": [
    "import librosa\n",
    "def _audio_greater_than_20_sec(row):\n",
    "    file_name = row['path']\n",
    "    audio, sr = librosa.load(file_name)\n",
    "    if len(audio) > 20 * sr:\n",
    "        return False\n",
    "    return row['path']"
   ]
  },
  {
   "cell_type": "code",
   "execution_count": 9,
   "metadata": {},
   "outputs": [],
   "source": [
    "data['path'] = data.apply(_get_file_name, axis=1)\n",
    "data['path'] = data.apply(_audio_greater_than_20_sec, axis=1)\n",
    "data = data[data['path'] != False]"
   ]
  },
  {
   "cell_type": "code",
   "execution_count": 10,
   "metadata": {},
   "outputs": [],
   "source": [
    "data = data.assign(**{\n",
    "    'wer': None,\n",
    "    'mer': None, \n",
    "    'wil': None, \n",
    "    'wip': None, \n",
    "    'cer': None,\n",
    "})\n",
    "\n",
    "# word error rate (WER)\n",
    "# match error rate (MER)\n",
    "# word information lost (WIL)\n",
    "# word information preserved (WIP)\n",
    "# character error rate (CER)"
   ]
  },
  {
   "cell_type": "code",
   "execution_count": 12,
   "metadata": {},
   "outputs": [
    {
     "name": "stdout",
     "output_type": "stream",
     "text": [
      "Moving model to cuda\n",
      "dtype of model acc to config:  torch.float16\n",
      "dtype of loaded model:  torch.float16\n"
     ]
    }
   ],
   "source": [
    "from models.output.whisper_medium_fp16_transformers import Model, load_audio\n",
    "model = Model(\n",
    "            model_name_or_path='models/output/whisper_medium_fp16_transformers',\n",
    "            cuda_visible_device=\"0\", \n",
    "            device='cuda',\n",
    "      )"
   ]
  },
  {
   "cell_type": "code",
   "execution_count": 12,
   "metadata": {},
   "outputs": [],
   "source": [
    "# import whisper\n",
    "# model2 = whisper.load_model(\n",
    "#     name='large-v2',\n",
    "#     device='cuda:0',\n",
    "#     download_root='models/compiled',\n",
    "# )"
   ]
  },
  {
   "cell_type": "code",
   "execution_count": 17,
   "metadata": {},
   "outputs": [],
   "source": [
    "from jiwer import wer, mer, wil, wip, cer\n",
    "\n",
    "def calculate(row):\n",
    "    reference = row['text_en'].strip().lower()\n",
    "    # For fp16 model\n",
    "    audio = load_audio(row['path'])\n",
    "    hypothesis = model.transcribe(audio, language='en').strip().lower()\n",
    "    \n",
    "    # For Whisper (Original model)\n",
    "    # audio = whisper.load_audio(row['path'])\n",
    "    # audio = whisper.pad_or_trim(audio)\n",
    "    # mel = whisper.log_mel_spectrogram(audio, device='cuda')\n",
    "    # options = whisper.DecodingOptions(language=\"hi\")\n",
    "    # result = whisper.decode(model2, mel, options)\n",
    "    # hypothesis = result.text.strip()\n",
    "\n",
    "    \n",
    "    row['wer'] = wer(reference, hypothesis)\n",
    "    row['mer'] = mer(reference, hypothesis)\n",
    "    row['wil'] = wil(reference, hypothesis)\n",
    "    row['wip'] = wip(reference, hypothesis)\n",
    "    row['cer'] = cer(reference, hypothesis)\n",
    "    \n",
    "    return row"
   ]
  },
  {
   "cell_type": "code",
   "execution_count": 18,
   "metadata": {},
   "outputs": [],
   "source": [
    "# data = data.head(1000)\n",
    "data = data.apply(calculate, axis=1)"
   ]
  },
  {
   "cell_type": "code",
   "execution_count": 21,
   "metadata": {},
   "outputs": [
    {
     "name": "stdout",
     "output_type": "stream",
     "text": [
      "WER:  0.7687369334800929\n",
      "MER:  0.6021552292207548\n",
      "WIL:  0.6926061617106999\n",
      "WIP:  0.3073938382893001\n",
      "CER:  0.5355428574973872\n"
     ]
    }
   ],
   "source": [
    "print('WER: ', data['wer'].mean())\n",
    "print('MER: ', data['mer'].mean())\n",
    "print('WIL: ', data['wil'].mean())\n",
    "print('WIP: ', data['wip'].mean())\n",
    "print('CER: ', data['cer'].mean())"
   ]
  },
  {
   "cell_type": "code",
   "execution_count": null,
   "metadata": {},
   "outputs": [],
   "source": [
    "from jiwer import wer, mer, wil, wip, cer\n",
    "\n",
    "ref_sent = 'साइना नेहवाल भारत पहुंची, एयरपोर्ट पर भव्य स्वागत'\n",
    "pred_sent = 'साइना नेहवाल भारत पहुंची, एयरपोर्ट पर भव्य स्वागत'\n",
    "\n",
    "print(wer(ref_sent, pred_sent))\n",
    "print(mer(ref_sent, pred_sent))\n",
    "print(wil(ref_sent, pred_sent))\n",
    "print(wip(ref_sent, pred_sent))\n",
    "print(cer(ref_sent, pred_sent))\n",
    "\n",
    "# print(ref_sent)"
   ]
  }
 ],
 "metadata": {
  "kernelspec": {
   "display_name": "Python 3",
   "language": "python",
   "name": "python3"
  },
  "language_info": {
   "codemirror_mode": {
    "name": "ipython",
    "version": 3
   },
   "file_extension": ".py",
   "mimetype": "text/x-python",
   "name": "python",
   "nbconvert_exporter": "python",
   "pygments_lexer": "ipython3",
   "version": "3.10.6"
  },
  "orig_nbformat": 4
 },
 "nbformat": 4,
 "nbformat_minor": 2
}
