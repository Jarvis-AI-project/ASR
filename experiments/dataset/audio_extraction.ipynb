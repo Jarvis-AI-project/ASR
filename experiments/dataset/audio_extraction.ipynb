{
 "cells": [
  {
   "cell_type": "code",
   "execution_count": 2,
   "metadata": {},
   "outputs": [
    {
     "name": "stdout",
     "output_type": "stream",
     "text": [
      "zsh:1: /usr/local/bin/pip: bad interpreter: /System/Library/Frameworks/Python.framework/Versions/2.7/Resources/Python.app/Contents/MacOS/Python: no such file or directory\n",
      "Requirement already satisfied: pytube in /Library/Frameworks/Python.framework/Versions/3.9/lib/python3.9/site-packages (15.0.0)\n"
     ]
    }
   ],
   "source": [
    "!pip install pytube"
   ]
  },
  {
   "cell_type": "code",
   "execution_count": 10,
   "metadata": {},
   "outputs": [
    {
     "name": "stdout",
     "output_type": "stream",
     "text": [
      "zsh:1: /usr/local/bin/pip: bad interpreter: /System/Library/Frameworks/Python.framework/Versions/2.7/Resources/Python.app/Contents/MacOS/Python: no such file or directory\n",
      "Collecting certifi\n",
      "  Downloading certifi-2024.2.2-py3-none-any.whl.metadata (2.2 kB)\n",
      "Downloading certifi-2024.2.2-py3-none-any.whl (163 kB)\n",
      "\u001b[2K   \u001b[90m━━━━━━━━━━━━━━━━━━━━━━━━━━━━━━━━━━━━━━━\u001b[0m \u001b[32m163.8/163.8 kB\u001b[0m \u001b[31m495.5 kB/s\u001b[0m eta \u001b[36m0:00:00\u001b[0ma \u001b[36m0:00:01\u001b[0m\n",
      "\u001b[?25hInstalling collected packages: certifi\n",
      "Successfully installed certifi-2024.2.2\n"
     ]
    }
   ],
   "source": [
    "!pip install certifi"
   ]
  },
  {
   "cell_type": "code",
   "execution_count": 25,
   "metadata": {},
   "outputs": [
    {
     "name": "stdout",
     "output_type": "stream",
     "text": [
      "Successfully extracted audio to /Users/rakeshsharma/Downloads/ASR/experiments/dataset/test_audios/Expo in 100 Seconds.mp4\n"
     ]
    }
   ],
   "source": [
    "from pytube import YouTube\n",
    "\n",
    "def extract_highest_quality_audio(youtube_url, output_dir, desired_format='audio/mp4'):\n",
    "    try:\n",
    "        # Create a YouTube object\n",
    "        yt = YouTube(youtube_url)\n",
    "\n",
    "        # Get the highest resolution audio stream\n",
    "        highest_quality_stream = yt.streams.filter(only_audio=True).first()\n",
    "\n",
    "        # Check if a suitable audio stream is found\n",
    "        if highest_quality_stream is None:\n",
    "            raise ValueError(\"No suitable audio streams found for the given video.\")\n",
    "\n",
    "        # Check if the desired format is supported\n",
    "        if highest_quality_stream.mime_type != desired_format:\n",
    "            raise ValueError(f\"Desired format '{desired_format}' is not supported by the highest quality stream.\")\n",
    "\n",
    "        # Download the audio stream\n",
    "        audio_path = highest_quality_stream.download(output_dir)\n",
    "\n",
    "        return audio_path\n",
    "\n",
    "    except Exception as e:\n",
    "        print(f\"Error extracting audio from {youtube_url}: {e}\")\n",
    "        return None\n",
    "\n",
    "# Example usage\n",
    "youtube_urls = [\n",
    "    \"https://youtu.be/vFW_TxKLyrE\"\n",
    "]\n",
    "\n",
    "output_dir = \"test_audios\"\n",
    "desired_format = 'audio/mp4'  # Update this to the desired format\n",
    "\n",
    "for url in youtube_urls:\n",
    "    audio_path = extract_highest_quality_audio(url, output_dir, desired_format)\n",
    "    if audio_path:\n",
    "        print(f\"Successfully extracted audio to {audio_path}\")"
   ]
  }
 ],
 "metadata": {
  "kernelspec": {
   "display_name": "Python 3",
   "language": "python",
   "name": "python3"
  },
  "language_info": {
   "codemirror_mode": {
    "name": "ipython",
    "version": 3
   },
   "file_extension": ".py",
   "mimetype": "text/x-python",
   "name": "python",
   "nbconvert_exporter": "python",
   "pygments_lexer": "ipython3",
   "version": "3.9.4"
  }
 },
 "nbformat": 4,
 "nbformat_minor": 2
}
