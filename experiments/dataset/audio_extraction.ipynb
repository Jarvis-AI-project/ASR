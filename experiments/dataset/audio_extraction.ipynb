{
 "cells": [
  {
   "cell_type": "code",
   "execution_count": null,
   "metadata": {},
   "outputs": [],
   "source": [
    "%pip install pytube"
   ]
  },
  {
   "cell_type": "code",
   "execution_count": null,
   "metadata": {},
   "outputs": [],
   "source": [
    "%pip install certifi"
   ]
  },
  {
   "cell_type": "code",
   "execution_count": null,
   "metadata": {},
   "outputs": [],
   "source": [
    "from pytube import YouTube\n",
    "\n",
    "def extract_highest_quality_audio(youtube_url, output_dir, desired_format='audio/mp4'):\n",
    "    try:\n",
    "        # Create a YouTube object\n",
    "        yt = YouTube(youtube_url)\n",
    "\n",
    "        # Get the highest resolution audio stream\n",
    "        highest_quality_stream = yt.streams.filter(only_audio=True).first()\n",
    "\n",
    "        # Check if a suitable audio stream is found\n",
    "        if highest_quality_stream is None:\n",
    "            raise ValueError(\"No suitable audio streams found for the given video.\")\n",
    "\n",
    "        # Check if the desired format is supported\n",
    "        if highest_quality_stream.mime_type != desired_format:\n",
    "            raise ValueError(f\"Desired format '{desired_format}' is not supported by the highest quality stream.\")\n",
    "\n",
    "        # Download the audio stream\n",
    "        audio_path = highest_quality_stream.download(output_dir)\n",
    "\n",
    "        return audio_path\n",
    "\n",
    "    except Exception as e:\n",
    "        print(f\"Error extracting audio from {youtube_url}: {e}\")\n",
    "        return None\n",
    "\n",
    "# Example usage\n",
    "youtube_urls = [\n",
    "    \"https://youtu.be/vFW_TxKLyrE\"\n",
    "]\n",
    "\n",
    "output_dir = \"test_audios\"\n",
    "desired_format = 'audio/mp4'  # Update this to the desired format\n",
    "\n",
    "for url in youtube_urls:\n",
    "    audio_path = extract_highest_quality_audio(url, output_dir, desired_format)\n",
    "    if audio_path:\n",
    "        print(f\"Successfully extracted audio to {audio_path}\")"
   ]
  }
 ],
 "metadata": {
  "kernelspec": {
   "display_name": "Python 3",
   "language": "python",
   "name": "python3"
  },
  "language_info": {
   "codemirror_mode": {
    "name": "ipython",
    "version": 3
   },
   "file_extension": ".py",
   "mimetype": "text/x-python",
   "name": "python",
   "nbconvert_exporter": "python",
   "pygments_lexer": "ipython3",
   "version": "3.9.4"
  }
 },
 "nbformat": 4,
 "nbformat_minor": 2
}
