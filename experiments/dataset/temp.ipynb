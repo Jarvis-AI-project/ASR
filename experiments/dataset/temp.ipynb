{
 "cells": [
  {
   "cell_type": "code",
   "execution_count": 13,
   "metadata": {},
   "outputs": [],
   "source": [
    "from youtube_transcript_api import YouTubeTranscriptApi\n",
    "from pytube import YouTube\n",
    "import subprocess\n",
    "\n",
    "VIDEO_URL = \"https://www.youtube.com/watch?v=okvZUE5j4R8\"\n"
   ]
  },
  {
   "cell_type": "code",
   "execution_count": 10,
   "metadata": {},
   "outputs": [
    {
     "data": {
      "text/plain": [
       "[{'text': \"I'm on a diet, so I'm checking my weight on my stomach.\",\n",
       "  'start': 35.68,\n",
       "  'duration': 2.98},\n",
       " {'text': 'A cup of water is my breakfast.', 'start': 42.12, 'duration': 2.34},\n",
       " {'text': \"I washed my hair and did a curling iron last night, so I'm just going to wind my bangs.\",\n",
       "  'start': 62.72,\n",
       "  'duration': 5.78},\n",
       " {'text': 'Is it 8:30? Omg omg', 'start': 119.76, 'duration': 2.92},\n",
       " {'text': 'I pack my bag until the curling iron gets hot.',\n",
       "  'start': 219.74,\n",
       "  'duration': 5.34},\n",
       " {'text': 'Oh, I forgot my phone.', 'start': 269.1, 'duration': 1.18}]"
      ]
     },
     "execution_count": 10,
     "metadata": {},
     "output_type": "execute_result"
    }
   ],
   "source": [
    "def get_subtitle(url):\n",
    "    srt = YouTubeTranscriptApi.get_transcript(url.split(\"v=\")[1])\n",
    "    return srt\n",
    "\n",
    "subtitle = get_subtitle(VIDEO_URL)\n",
    "subtitle[:]\n"
   ]
  },
  {
   "cell_type": "code",
   "execution_count": 14,
   "metadata": {},
   "outputs": [
    {
     "data": {
      "text/plain": [
       "'/mnt/nvme/JARVIS/ASR/experiments/dataset/audio.mp4'"
      ]
     },
     "execution_count": 14,
     "metadata": {},
     "output_type": "execute_result"
    }
   ],
   "source": [
    "def get_best_audio_stream(url):\n",
    "    # Get YouTube video\n",
    "    yt = YouTube(url)\n",
    "    \n",
    "    # Filter out audio streams with codec 'mp4a.40.5', 'mp4a.40.2', and 'opus'\n",
    "    audio_streams = yt.streams.filter(only_audio=True)\n",
    "    \n",
    "    # Create dictionaries to store information about each codec type\n",
    "    mp4a_40_5_streams = {}\n",
    "    mp4a_40_2_streams = {}\n",
    "    opus_streams = {}\n",
    "    \n",
    "    # Group streams by codec type and store the highest quality stream for each\n",
    "    for stream in audio_streams:\n",
    "        codecs = stream.parse_codecs()\n",
    "        if 'mp4a.40.5' in codecs:\n",
    "            mp4a_40_5_streams[stream.abr] = stream\n",
    "        elif 'mp4a.40.2' in codecs:\n",
    "            mp4a_40_2_streams[stream.abr] = stream\n",
    "        elif 'opus' in codecs:\n",
    "            opus_streams[stream.abr] = stream\n",
    "    \n",
    "    # Choose the highest quality stream among each codec type\n",
    "    best_mp4a_40_5 = mp4a_40_5_streams[max(mp4a_40_5_streams)]\n",
    "    best_mp4a_40_2 = mp4a_40_2_streams[max(mp4a_40_2_streams)]\n",
    "    best_opus = opus_streams[max(opus_streams)]\n",
    "    \n",
    "    # Compare the highest quality streams among all codec types\n",
    "    best_stream = max([best_mp4a_40_5, best_mp4a_40_2, best_opus], key=lambda x: int(x.abr[:-4]))\n",
    "    \n",
    "    return best_stream\n",
    "\n",
    "best_audio_stream = get_best_audio_stream(VIDEO_URL)\n",
    "best_audio_stream.download(filename=\"audio.mp4\")\n"
   ]
  },
  {
   "cell_type": "code",
   "execution_count": 15,
   "metadata": {},
   "outputs": [
    {
     "name": "stderr",
     "output_type": "stream",
     "text": [
      "ffmpeg version 4.2.2 Copyright (c) 2000-2019 the FFmpeg developers\n",
      "  built with gcc 7.3.0 (crosstool-NG 1.23.0.449-a04d0)\n",
      "  configuration: --prefix=/tmp/build/80754af9/ffmpeg_1587154242452/_h_env_placehold_placehold_placehold_placehold_placehold_placehold_placehold_placehold_placehold_placehold_placehold_placehold_placehold_placehold_placehold_placehold_placehold_placehold_placehold_placehold_placeho --cc=/tmp/build/80754af9/ffmpeg_1587154242452/_build_env/bin/x86_64-conda_cos6-linux-gnu-cc --disable-doc --enable-avresample --enable-gmp --enable-hardcoded-tables --enable-libfreetype --enable-libvpx --enable-pthreads --enable-libopus --enable-postproc --enable-pic --enable-pthreads --enable-shared --enable-static --enable-version3 --enable-zlib --enable-libmp3lame --disable-nonfree --enable-gpl --enable-gnutls --disable-openssl --enable-libopenh264 --enable-libx264\n",
      "  libavutil      56. 31.100 / 56. 31.100\n",
      "  libavcodec     58. 54.100 / 58. 54.100\n",
      "  libavformat    58. 29.100 / 58. 29.100\n",
      "  libavdevice    58.  8.100 / 58.  8.100\n",
      "  libavfilter     7. 57.100 /  7. 57.100\n",
      "  libavresample   4.  0.  0 /  4.  0.  0\n",
      "  libswscale      5.  5.100 /  5.  5.100\n",
      "  libswresample   3.  5.100 /  3.  5.100\n",
      "  libpostproc    55.  5.100 / 55.  5.100\n",
      "Input #0, mov,mp4,m4a,3gp,3g2,mj2, from 'audio.mp4':\n",
      "  Metadata:\n",
      "    major_brand     : dash\n",
      "    minor_version   : 0\n",
      "    compatible_brands: iso6mp41\n",
      "    creation_time   : 2019-01-28T07:33:42.000000Z\n",
      "  Duration: 00:10:16.51, start: 0.000000, bitrate: 129 kb/s\n",
      "    Stream #0:0(eng): Audio: aac (LC) (mp4a / 0x6134706D), 44100 Hz, stereo, fltp, 2 kb/s (default)\n",
      "    Metadata:\n",
      "      creation_time   : 2019-01-28T07:33:42.000000Z\n",
      "      handler_name    : ISO Media file produced by Google Inc. Created on: 01/27/2019.\n",
      "Stream mapping:\n",
      "  Stream #0:0 -> #0:0 (aac (native) -> pcm_s16le (native))\n",
      "Press [q] to stop, [?] for help\n",
      "Output #0, wav, to 'audio.wav':\n",
      "  Metadata:\n",
      "    major_brand     : dash\n",
      "    minor_version   : 0\n",
      "    compatible_brands: iso6mp41\n",
      "    ISFT            : Lavf58.29.100\n",
      "    Stream #0:0(eng): Audio: pcm_s16le ([1][0][0][0] / 0x0001), 16000 Hz, mono, s16, 256 kb/s (default)\n",
      "    Metadata:\n",
      "      creation_time   : 2019-01-28T07:33:42.000000Z\n",
      "      handler_name    : ISO Media file produced by Google Inc. Created on: 01/27/2019.\n",
      "      encoder         : Lavc58.54.100 pcm_s16le\n",
      "size=   19266kB time=00:10:16.51 bitrate= 256.0kbits/s speed=1.1e+03x    \n",
      "video:0kB audio:19266kB subtitle:0kB other streams:0kB global headers:0kB muxing overhead: 0.000395%\n"
     ]
    }
   ],
   "source": [
    "import os\n",
    "def convert_to_wav(input_file, output_file, sample_rate='16000'):\n",
    "    os.remove(output_file) if os.path.exists(output_file) else None\n",
    "    # Use ffmpeg to convert the audio to WAV with specified sample rate\n",
    "    command = ['ffmpeg', '-i', input_file, '-ar', sample_rate, '-ac', '1', output_file]\n",
    "    subprocess.run(command)\n",
    "    os.remove(input_file)\n",
    "\n",
    "convert_to_wav(\"audio.mp4\", \"audio.wav\")\n"
   ]
  },
  {
   "cell_type": "code",
   "execution_count": 16,
   "metadata": {},
   "outputs": [],
   "source": [
    "import whisper\n",
    "model = whisper.load_model('tiny')\n"
   ]
  },
  {
   "cell_type": "code",
   "execution_count": 17,
   "metadata": {},
   "outputs": [],
   "source": [
    "audio = whisper.load_audio('audio.wav')\n",
    "audio = whisper.pad_or_trim(audio)\n",
    "mel = whisper.log_mel_spectrogram(audio).to(model.device)\n"
   ]
  },
  {
   "cell_type": "code",
   "execution_count": 18,
   "metadata": {},
   "outputs": [
    {
     "name": "stdout",
     "output_type": "stream",
     "text": [
      "Detected language: nn\n"
     ]
    }
   ],
   "source": [
    "_, probs = model.detect_language(mel)\n",
    "print(f\"Detected language: {max(probs, key=probs.get)}\")\n"
   ]
  }
 ],
 "metadata": {
  "kernelspec": {
   "display_name": "function_call_generator",
   "language": "python",
   "name": "python3"
  },
  "language_info": {
   "codemirror_mode": {
    "name": "ipython",
    "version": 3
   },
   "file_extension": ".py",
   "mimetype": "text/x-python",
   "name": "python",
   "nbconvert_exporter": "python",
   "pygments_lexer": "ipython3",
   "version": "3.12.0"
  }
 },
 "nbformat": 4,
 "nbformat_minor": 2
}
