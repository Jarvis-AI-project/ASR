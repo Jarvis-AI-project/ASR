{
 "cells": [
  {
   "cell_type": "code",
   "execution_count": null,
   "metadata": {},
   "outputs": [],
   "source": [
    "from youtube_transcript_api import YouTubeTranscriptApi\n",
    "from pytube import YouTube\n",
    "import subprocess\n",
    "\n",
    "VIDEO_URL = \"https://youtu.be/KOEfDvr4DcQ\"\n"
   ]
  },
  {
   "cell_type": "code",
   "execution_count": null,
   "metadata": {},
   "outputs": [],
   "source": [
    "def get_subtitle(url):\n",
    "    srt = YouTubeTranscriptApi.get_transcript(url.split(\"v=\")[1])\n",
    "    return srt\n",
    "\n",
    "subtitle = get_subtitle(VIDEO_URL)\n",
    "subtitle[:]\n"
   ]
  },
  {
   "cell_type": "code",
   "execution_count": null,
   "metadata": {},
   "outputs": [],
   "source": [
    "def get_best_audio_stream(url):\n",
    "    # Get YouTube video\n",
    "    yt = YouTube(url)\n",
    "    \n",
    "    # Filter out audio streams with codec 'mp4a.40.5', 'mp4a.40.2', and 'opus'\n",
    "    audio_streams = yt.streams.filter(only_audio=True)\n",
    "    \n",
    "    # Create dictionaries to store information about each codec type\n",
    "    mp4a_40_5_streams = {}\n",
    "    mp4a_40_2_streams = {}\n",
    "    opus_streams = {}\n",
    "    \n",
    "    # Group streams by codec type and store the highest quality stream for each\n",
    "    for stream in audio_streams:\n",
    "        codecs = stream.parse_codecs()\n",
    "        if 'mp4a.40.5' in codecs:\n",
    "            mp4a_40_5_streams[stream.abr] = stream\n",
    "        elif 'mp4a.40.2' in codecs:\n",
    "            mp4a_40_2_streams[stream.abr] = stream\n",
    "        elif 'opus' in codecs:\n",
    "            opus_streams[stream.abr] = stream\n",
    "    \n",
    "    # Choose the highest quality stream among each codec type\n",
    "    best_mp4a_40_5 = mp4a_40_5_streams[max(mp4a_40_5_streams)]\n",
    "    best_mp4a_40_2 = mp4a_40_2_streams[max(mp4a_40_2_streams)]\n",
    "    best_opus = opus_streams[max(opus_streams)]\n",
    "    \n",
    "    # Compare the highest quality streams among all codec types\n",
    "    best_stream = max([best_mp4a_40_5, best_mp4a_40_2, best_opus], key=lambda x: int(x.abr[:-4]))\n",
    "    \n",
    "    return best_stream\n",
    "\n",
    "best_audio_stream = get_best_audio_stream(VIDEO_URL)\n",
    "best_audio_stream.download(filename=\"audio.mp4\")\n"
   ]
  },
  {
   "cell_type": "code",
   "execution_count": null,
   "metadata": {},
   "outputs": [],
   "source": [
    "import os\n",
    "def convert_to_wav(input_file, output_file, sample_rate='16000'):\n",
    "    os.remove(output_file) if os.path.exists(output_file) else None\n",
    "    # Use ffmpeg to convert the audio to WAV with specified sample rate\n",
    "    command = ['ffmpeg', '-i', input_file, '-ar', sample_rate, '-ac', '1', output_file]\n",
    "    subprocess.run(command)\n",
    "    os.remove(input_file)\n",
    "\n",
    "convert_to_wav(\"audio.mp4\", \"audio.wav\")\n"
   ]
  },
  {
   "cell_type": "code",
   "execution_count": null,
   "metadata": {},
   "outputs": [],
   "source": [
    "import whisper\n",
    "model = whisper.load_model('tiny')\n"
   ]
  },
  {
   "cell_type": "code",
   "execution_count": null,
   "metadata": {},
   "outputs": [],
   "source": [
    "audio = whisper.load_audio('audio.wav')\n",
    "audio = whisper.pad_or_trim(audio)\n",
    "mel = whisper.log_mel_spectrogram(audio).to(model.device)\n",
    "\n",
    "_, probs = model.detect_language(mel)\n",
    "print(f\"Detected language: {max(probs, key=probs.get)}\")"
   ]
  }
 ],
 "metadata": {
  "kernelspec": {
   "display_name": "function_call_generator",
   "language": "python",
   "name": "python3"
  },
  "language_info": {
   "codemirror_mode": {
    "name": "ipython",
    "version": 3
   },
   "file_extension": ".py",
   "mimetype": "text/x-python",
   "name": "python",
   "nbconvert_exporter": "python",
   "pygments_lexer": "ipython3",
   "version": "3.9.0"
  }
 },
 "nbformat": 4,
 "nbformat_minor": 2
}
