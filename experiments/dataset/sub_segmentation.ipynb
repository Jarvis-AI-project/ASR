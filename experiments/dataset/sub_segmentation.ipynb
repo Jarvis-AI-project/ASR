{
 "cells": [
  {
   "cell_type": "code",
   "execution_count": null,
   "metadata": {},
   "outputs": [],
   "source": [
    "!pip3 install youtube_transcript_api"
   ]
  },
  {
   "cell_type": "code",
   "execution_count": null,
   "metadata": {},
   "outputs": [],
   "source": [
    "from youtube_transcript_api import YouTubeTranscriptApi\n",
    "import re\n",
    "\n",
    "def get_subtitle(url):\n",
    "    video_id_match = re.search(r\"(?<=v=)[\\w-]+\", url)\n",
    "    if video_id_match:\n",
    "        video_id = video_id_match.group(0)\n",
    "        try:\n",
    "            transcript = YouTubeTranscriptApi.get_transcript(video_id)\n",
    "            return transcript\n",
    "        except Exception as e:\n",
    "            print(f\"An error occurred: {e}\")\n",
    "            return None\n",
    "    else:\n",
    "        print(\"Unable to extract video ID from the URL.\")\n",
    "        return None\n",
    "\n",
    "def process_subtitles(url):\n",
    "    transcript = get_subtitle(url)\n",
    "\n",
    "    if transcript is not None:\n",
    "        total_words = sum(len(re.findall(r'\\w+', line[\"text\"])) for line in transcript)\n",
    "        total_duration = transcript[-1][\"start\"] + transcript[-1][\"duration\"]\n",
    "        average_duration_per_sentence = total_duration / total_words\n",
    "\n",
    "        segmented_subtitles = []\n",
    "        current_start = None\n",
    "\n",
    "        for line in transcript:\n",
    "            cleaned_text = re.sub(r'\\s+', ' ', line[\"text\"]).strip()\n",
    "            text_parts = cleaned_text.split(\". \")\n",
    "\n",
    "            for part in text_parts:\n",
    "                if current_start is None:\n",
    "                    current_start = line[\"start\"]\n",
    "\n",
    "                duration = len(re.findall(r'\\w+', part)) * average_duration_per_sentence\n",
    "                current_end = round(current_start + duration, 2)\n",
    "\n",
    "                segmented_subtitles.append({\n",
    "                    \"text\": part,\n",
    "                    \"start\": current_start,\n",
    "                    \"end\": current_end\n",
    "                })\n",
    "\n",
    "                current_start = current_end\n",
    "\n",
    "        for subtitle in segmented_subtitles:\n",
    "            print(f\"Text: {subtitle['text']}\")\n",
    "            print(f\"Start Time: {subtitle['start']}, End Time: {subtitle['end']}\\n\")\n",
    "    else:\n",
    "        print(\"Subtitle retrieval failed.\")\n",
    "\n",
    "# Example usage\n",
    "video_url = \"https://www.youtube.com/watch?v=okvZUE5j4R8&t=17s\"\n",
    "process_subtitles(video_url)\n",
    "\n",
    "\n"
   ]
  }
 ],
 "metadata": {
  "kernelspec": {
   "display_name": "Python 3",
   "language": "python",
   "name": "python3"
  },
  "language_info": {
   "codemirror_mode": {
    "name": "ipython",
    "version": 3
   },
   "file_extension": ".py",
   "mimetype": "text/x-python",
   "name": "python",
   "nbconvert_exporter": "python",
   "pygments_lexer": "ipython3",
   "version": "3.12.2"
  }
 },
 "nbformat": 4,
 "nbformat_minor": 2
}
