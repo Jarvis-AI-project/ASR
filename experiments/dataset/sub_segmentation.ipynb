{
 "cells": [
  {
   "cell_type": "code",
   "execution_count": null,
   "metadata": {},
   "outputs": [],
   "source": [
    "!pip3 install youtube_transcript_api"
   ]
  },
  {
   "cell_type": "code",
   "execution_count": null,
   "metadata": {},
   "outputs": [],
   "source": [
    "from youtube_transcript_api import YouTubeTranscriptApi\n",
    "import re\n",
    "\n",
    "# Get video ID and download transcripts\n",
    "video_id = \"KrLj6nc516A\"\n",
    "transcript = YouTubeTranscriptApi.get_transcript(video_id)\n",
    "\n",
    "# Split into sentences and estimate duration per sentence\n",
    "average_duration_per_sentence = 15  # Adjust based on video content\n",
    "segmented_subtitles = []\n",
    "\n",
    "current_start = None\n",
    "for line in transcript:\n",
    "    cleaned_text = re.sub(r'\\s+', ' ', line[\"text\"]).strip()  # Replace multiple whitespaces with a single space\n",
    "    text_parts = cleaned_text.split(\". \")\n",
    "\n",
    "    for part in text_parts:\n",
    "        if current_start is None:\n",
    "            current_start = line[\"start\"]\n",
    "\n",
    "        duration = len(part) * average_duration_per_sentence\n",
    "\n",
    "        # Calculate the ending time stamp\n",
    "        current_end = current_start + duration\n",
    "\n",
    "        segmented_subtitles.append({\n",
    "            \"text\": part,\n",
    "            \"start\": current_start,\n",
    "            \"end\": current_end\n",
    "        })\n",
    "\n",
    "        current_start = current_end\n",
    "\n",
    "# Print each sentence along with starting and ending timestamps\n",
    "for subtitle in segmented_subtitles:\n",
    "    print(f\"Text: {subtitle['text']}\")\n",
    "    print(f\"Start Time: {subtitle['start']}, End Time: {subtitle['end']}\\n\")\n",
    "\n",
    "# If you want to print the entire segmented_subtitles list, you can use the following:\n",
    "# print(segmented_subtitles)\n"
   ]
  }
 ],
 "metadata": {
  "kernelspec": {
   "display_name": "Python 3",
   "language": "python",
   "name": "python3"
  },
  "language_info": {
   "codemirror_mode": {
    "name": "ipython",
    "version": 3
   },
   "file_extension": ".py",
   "mimetype": "text/x-python",
   "name": "python",
   "nbconvert_exporter": "python",
   "pygments_lexer": "ipython3",
   "version": "3.9.0"
  }
 },
 "nbformat": 4,
 "nbformat_minor": 2
}
