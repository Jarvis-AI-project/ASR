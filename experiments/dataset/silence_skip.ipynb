{
 "cells": [
  {
   "cell_type": "code",
   "execution_count": null,
   "metadata": {},
   "outputs": [],
   "source": [
    "%pip install pydub"
   ]
  },
  {
   "cell_type": "code",
   "execution_count": 14,
   "metadata": {},
   "outputs": [
    {
     "data": {
      "text/plain": [
       "<_io.BufferedRandom name='cleaned_audio.mp3'>"
      ]
     },
     "execution_count": 14,
     "metadata": {},
     "output_type": "execute_result"
    }
   ],
   "source": [
    "from pydub import AudioSegment\n",
    "from pydub.silence import split_on_silence\n",
    "\n",
    "# Load the audio file\n",
    "audio = AudioSegment.from_file(\"/Users/rakeshsharma/Downloads/ASR/experiments/dataset/test_audios/Shahi Paneer Restaurant Style Recipe  होटल जैसा शाही पनीर  Chef Sanjyot Keer.mp4\", format=\"mp4\")\n",
    "\n",
    "# Split the audio on silence\n",
    "chunks = split_on_silence(audio, silence_thresh=-35)\n",
    "\n",
    "# Concatenate the non-silent chunks\n",
    "cleaned_audio = AudioSegment.silent()\n",
    "for chunk in chunks:\n",
    "    cleaned_audio += chunk\n",
    "\n",
    "# Save the cleaned audio\n",
    "cleaned_audio.export(\"cleaned_audio.mp3\", format=\"mp3\")"
   ]
  }
 ],
 "metadata": {
  "kernelspec": {
   "display_name": "Python 3",
   "language": "python",
   "name": "python3"
  },
  "language_info": {
   "codemirror_mode": {
    "name": "ipython",
    "version": 3
   },
   "file_extension": ".py",
   "mimetype": "text/x-python",
   "name": "python",
   "nbconvert_exporter": "python",
   "pygments_lexer": "ipython3",
   "version": "3.9.0"
  }
 },
 "nbformat": 4,
 "nbformat_minor": 2
}
