{
 "cells": [
  {
   "cell_type": "code",
   "execution_count": 4,
   "metadata": {},
   "outputs": [
    {
     "name": "stdout",
     "output_type": "stream",
     "text": [
      " Jarvis what are you doing? I heard that you are selling new water.\n"
     ]
    }
   ],
   "source": [
    "from groq import Groq\n",
    "from dotenv import load_dotenv\n",
    "import os\n",
    "import sys\n",
    "\n",
    "# Append path in which vsc is open\n",
    "# sys.path.append(os.path.join(os.path.dirname(__file__), \"..\"))\n",
    "\n",
    "load_dotenv()\n",
    "\n",
    "client = Groq(api_key=os.getenv(\"GROQ_API_KEY\"))\n",
    "filename = \"/mnt/nvme/JARVIS/ASR/experiments/audio_samples/test/dev_wav/1_hi.wav\"\n",
    "\n",
    "with open(filename, \"rb\") as file:\n",
    "    translation = client.audio.translations.create(\n",
    "      file=(filename, file.read()),\n",
    "      model=\"whisper-large-v3\",\n",
    "    #   prompt=\"Specify context or spelling\",  # Optional\n",
    "    #   response_format=\"json\",  # Optional\n",
    "      temperature=0.0  # Optional\n",
    "    )\n",
    "    print(translation.text)\n"
   ]
  }
 ],
 "metadata": {
  "kernelspec": {
   "display_name": "base",
   "language": "python",
   "name": "python3"
  },
  "language_info": {
   "codemirror_mode": {
    "name": "ipython",
    "version": 3
   },
   "file_extension": ".py",
   "mimetype": "text/x-python",
   "name": "python",
   "nbconvert_exporter": "python",
   "pygments_lexer": "ipython3",
   "version": "3.10.13"
  }
 },
 "nbformat": 4,
 "nbformat_minor": 2
}
